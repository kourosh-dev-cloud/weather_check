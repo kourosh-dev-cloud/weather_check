{
 "cells": [
  {
   "cell_type": "code",
   "execution_count": null,
   "id": "666aa04d-03e7-4b76-af54-62d0d97d8688",
   "metadata": {},
   "outputs": [],
   "source": [
    "# Project: Weather Checker using API\n",
    "# This project uses Python and the requests library to fetch real-time weather data from WeatherAPI."
   ]
  },
  {
   "cell_type": "code",
   "execution_count": null,
   "id": "1f4488ae-1541-4306-8348-2e18049ddbda",
   "metadata": {},
   "outputs": [],
   "source": [
    "import requests\n",
    "import json"
   ]
  },
  {
   "cell_type": "code",
   "execution_count": null,
   "id": "b5cb845e-bc54-4905-8c8f-c43540438708",
   "metadata": {},
   "outputs": [],
   "source": [
    "api_key = \"your_api_key_here\"  # ⚠ Replace with your actual API key\n",
    "base_url = \"http://api.weatherapi.com/v1/current.json\"\n",
    "city = input(\"Enter the city name.\")\n",
    "url = f\"{base_url}?key={api_key}&q={city}\""
   ]
  },
  {
   "cell_type": "code",
   "execution_count": null,
   "id": "b9de621e-534c-4b5c-bf38-e49c1c07f997",
   "metadata": {},
   "outputs": [],
   "source": [
    "response = requests.get(url)"
   ]
  },
  {
   "cell_type": "code",
   "execution_count": null,
   "id": "786fee39-6d38-497a-95b3-40cd2484ac7e",
   "metadata": {},
   "outputs": [],
   "source": [
    "if response.status_code == 200:\n",
    "    data = response.json()"
   ]
  },
  {
   "cell_type": "code",
   "execution_count": null,
   "id": "096a054f-5ba0-4ec0-bd33-ab98cd3b2e18",
   "metadata": {},
   "outputs": [],
   "source": [
    "print(f\"📍 City: {data['location']['name']}\")\n",
    "print(f\"🌍 Country: {data['location']['country']}\")\n",
    "print(f\"🌡 Temp: {data['current']['temp_c']} °C\")\n",
    "print(f\"☁ Condition: {data['current']['condition']['text']}\")"
   ]
  },
  {
   "cell_type": "code",
   "execution_count": null,
   "id": "f77ac586-57f5-479c-884f-92db0167abf0",
   "metadata": {},
   "outputs": [],
   "source": [
    "else:\n",
    "    print(f\"❌ Failed to fetch data. HTTP Status Code: {response.status_code}\")"
   ]
  },
  {
   "cell_type": "code",
   "execution_count": null,
   "id": "c4132b18-b2a2-4866-a5ad-b31295c3015c",
   "metadata": {},
   "outputs": [],
   "source": []
  }
 ],
 "metadata": {
  "kernelspec": {
   "display_name": "Python 3 (ipykernel)",
   "language": "python",
   "name": "python3"
  },
  "language_info": {
   "codemirror_mode": {
    "name": "ipython",
    "version": 3
   },
   "file_extension": ".py",
   "mimetype": "text/x-python",
   "name": "python",
   "nbconvert_exporter": "python",
   "pygments_lexer": "ipython3",
   "version": "3.13.2"
  }
 },
 "nbformat": 4,
 "nbformat_minor": 5
}
